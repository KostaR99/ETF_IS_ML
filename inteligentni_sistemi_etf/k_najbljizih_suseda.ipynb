{
 "cells": [
  {
   "cell_type": "code",
   "execution_count": 94,
   "metadata": {},
   "outputs": [],
   "source": [
    "import pandas as pd\n",
    "import matplotlib.pyplot as plt\n",
    "import numpy as np"
   ]
  },
  {
   "cell_type": "code",
   "execution_count": 95,
   "metadata": {},
   "outputs": [],
   "source": [
    "df = pd.read_csv(\"car_state.csv\")"
   ]
  },
  {
   "cell_type": "code",
   "execution_count": 96,
   "metadata": {},
   "outputs": [
    {
     "data": {
      "text/html": [
       "<div>\n",
       "<style scoped>\n",
       "    .dataframe tbody tr th:only-of-type {\n",
       "        vertical-align: middle;\n",
       "    }\n",
       "\n",
       "    .dataframe tbody tr th {\n",
       "        vertical-align: top;\n",
       "    }\n",
       "\n",
       "    .dataframe thead th {\n",
       "        text-align: right;\n",
       "    }\n",
       "</style>\n",
       "<table border=\"1\" class=\"dataframe\">\n",
       "  <thead>\n",
       "    <tr style=\"text-align: right;\">\n",
       "      <th></th>\n",
       "      <th>buying_price</th>\n",
       "      <th>maintenance</th>\n",
       "      <th>doors</th>\n",
       "      <th>seats</th>\n",
       "      <th>trunk_size</th>\n",
       "      <th>safety</th>\n",
       "      <th>status</th>\n",
       "    </tr>\n",
       "  </thead>\n",
       "  <tbody>\n",
       "    <tr>\n",
       "      <th>0</th>\n",
       "      <td>medium</td>\n",
       "      <td>medium</td>\n",
       "      <td>3</td>\n",
       "      <td>4</td>\n",
       "      <td>small</td>\n",
       "      <td>medium</td>\n",
       "      <td>acceptable</td>\n",
       "    </tr>\n",
       "    <tr>\n",
       "      <th>1</th>\n",
       "      <td>low</td>\n",
       "      <td>medium</td>\n",
       "      <td>5 or more</td>\n",
       "      <td>2</td>\n",
       "      <td>small</td>\n",
       "      <td>high</td>\n",
       "      <td>unacceptable</td>\n",
       "    </tr>\n",
       "    <tr>\n",
       "      <th>2</th>\n",
       "      <td>low</td>\n",
       "      <td>very high</td>\n",
       "      <td>2</td>\n",
       "      <td>2</td>\n",
       "      <td>big</td>\n",
       "      <td>high</td>\n",
       "      <td>unacceptable</td>\n",
       "    </tr>\n",
       "    <tr>\n",
       "      <th>3</th>\n",
       "      <td>medium</td>\n",
       "      <td>very high</td>\n",
       "      <td>4</td>\n",
       "      <td>2</td>\n",
       "      <td>big</td>\n",
       "      <td>high</td>\n",
       "      <td>unacceptable</td>\n",
       "    </tr>\n",
       "    <tr>\n",
       "      <th>4</th>\n",
       "      <td>very high</td>\n",
       "      <td>high</td>\n",
       "      <td>2</td>\n",
       "      <td>5 or more</td>\n",
       "      <td>small</td>\n",
       "      <td>low</td>\n",
       "      <td>unacceptable</td>\n",
       "    </tr>\n",
       "  </tbody>\n",
       "</table>\n",
       "</div>"
      ],
      "text/plain": [
       "  buying_price maintenance      doors      seats trunk_size  safety  \\\n",
       "0       medium      medium          3          4      small  medium   \n",
       "1          low      medium  5 or more          2      small    high   \n",
       "2          low   very high          2          2        big    high   \n",
       "3       medium   very high          4          2        big    high   \n",
       "4    very high        high          2  5 or more      small     low   \n",
       "\n",
       "         status  \n",
       "0    acceptable  \n",
       "1  unacceptable  \n",
       "2  unacceptable  \n",
       "3  unacceptable  \n",
       "4  unacceptable  "
      ]
     },
     "execution_count": 96,
     "metadata": {},
     "output_type": "execute_result"
    }
   ],
   "source": [
    "df.head()"
   ]
  },
  {
   "cell_type": "code",
   "execution_count": 97,
   "metadata": {},
   "outputs": [
    {
     "data": {
      "text/html": [
       "<div>\n",
       "<style scoped>\n",
       "    .dataframe tbody tr th:only-of-type {\n",
       "        vertical-align: middle;\n",
       "    }\n",
       "\n",
       "    .dataframe tbody tr th {\n",
       "        vertical-align: top;\n",
       "    }\n",
       "\n",
       "    .dataframe thead th {\n",
       "        text-align: right;\n",
       "    }\n",
       "</style>\n",
       "<table border=\"1\" class=\"dataframe\">\n",
       "  <thead>\n",
       "    <tr style=\"text-align: right;\">\n",
       "      <th></th>\n",
       "      <th>buying_price</th>\n",
       "      <th>maintenance</th>\n",
       "      <th>doors</th>\n",
       "      <th>seats</th>\n",
       "      <th>trunk_size</th>\n",
       "      <th>safety</th>\n",
       "      <th>status</th>\n",
       "    </tr>\n",
       "  </thead>\n",
       "  <tbody>\n",
       "    <tr>\n",
       "      <th>1394</th>\n",
       "      <td>medium</td>\n",
       "      <td>low</td>\n",
       "      <td>5 or more</td>\n",
       "      <td>5 or more</td>\n",
       "      <td>big</td>\n",
       "      <td>low</td>\n",
       "      <td>unacceptable</td>\n",
       "    </tr>\n",
       "    <tr>\n",
       "      <th>1395</th>\n",
       "      <td>medium</td>\n",
       "      <td>high</td>\n",
       "      <td>5 or more</td>\n",
       "      <td>4</td>\n",
       "      <td>medium</td>\n",
       "      <td>high</td>\n",
       "      <td>acceptable</td>\n",
       "    </tr>\n",
       "    <tr>\n",
       "      <th>1396</th>\n",
       "      <td>very high</td>\n",
       "      <td>medium</td>\n",
       "      <td>3</td>\n",
       "      <td>5 or more</td>\n",
       "      <td>medium</td>\n",
       "      <td>high</td>\n",
       "      <td>acceptable</td>\n",
       "    </tr>\n",
       "    <tr>\n",
       "      <th>1397</th>\n",
       "      <td>medium</td>\n",
       "      <td>very high</td>\n",
       "      <td>4</td>\n",
       "      <td>4</td>\n",
       "      <td>medium</td>\n",
       "      <td>medium</td>\n",
       "      <td>acceptable</td>\n",
       "    </tr>\n",
       "    <tr>\n",
       "      <th>1398</th>\n",
       "      <td>low</td>\n",
       "      <td>medium</td>\n",
       "      <td>3</td>\n",
       "      <td>5 or more</td>\n",
       "      <td>medium</td>\n",
       "      <td>low</td>\n",
       "      <td>unacceptable</td>\n",
       "    </tr>\n",
       "  </tbody>\n",
       "</table>\n",
       "</div>"
      ],
      "text/plain": [
       "     buying_price maintenance      doors      seats trunk_size  safety  \\\n",
       "1394       medium         low  5 or more  5 or more        big     low   \n",
       "1395       medium        high  5 or more          4     medium    high   \n",
       "1396    very high      medium          3  5 or more     medium    high   \n",
       "1397       medium   very high          4          4     medium  medium   \n",
       "1398          low      medium          3  5 or more     medium     low   \n",
       "\n",
       "            status  \n",
       "1394  unacceptable  \n",
       "1395    acceptable  \n",
       "1396    acceptable  \n",
       "1397    acceptable  \n",
       "1398  unacceptable  "
      ]
     },
     "execution_count": 97,
     "metadata": {},
     "output_type": "execute_result"
    }
   ],
   "source": [
    "df.tail()"
   ]
  },
  {
   "cell_type": "code",
   "execution_count": 98,
   "metadata": {},
   "outputs": [
    {
     "data": {
      "text/html": [
       "<div>\n",
       "<style scoped>\n",
       "    .dataframe tbody tr th:only-of-type {\n",
       "        vertical-align: middle;\n",
       "    }\n",
       "\n",
       "    .dataframe tbody tr th {\n",
       "        vertical-align: top;\n",
       "    }\n",
       "\n",
       "    .dataframe thead th {\n",
       "        text-align: right;\n",
       "    }\n",
       "</style>\n",
       "<table border=\"1\" class=\"dataframe\">\n",
       "  <thead>\n",
       "    <tr style=\"text-align: right;\">\n",
       "      <th></th>\n",
       "      <th>buying_price</th>\n",
       "      <th>maintenance</th>\n",
       "      <th>doors</th>\n",
       "      <th>seats</th>\n",
       "      <th>trunk_size</th>\n",
       "      <th>safety</th>\n",
       "      <th>status</th>\n",
       "    </tr>\n",
       "  </thead>\n",
       "  <tbody>\n",
       "    <tr>\n",
       "      <th>count</th>\n",
       "      <td>1399</td>\n",
       "      <td>1399</td>\n",
       "      <td>1399</td>\n",
       "      <td>1399</td>\n",
       "      <td>1399</td>\n",
       "      <td>1399</td>\n",
       "      <td>1399</td>\n",
       "    </tr>\n",
       "    <tr>\n",
       "      <th>unique</th>\n",
       "      <td>4</td>\n",
       "      <td>4</td>\n",
       "      <td>4</td>\n",
       "      <td>3</td>\n",
       "      <td>3</td>\n",
       "      <td>3</td>\n",
       "      <td>4</td>\n",
       "    </tr>\n",
       "    <tr>\n",
       "      <th>top</th>\n",
       "      <td>low</td>\n",
       "      <td>high</td>\n",
       "      <td>3</td>\n",
       "      <td>5 or more</td>\n",
       "      <td>small</td>\n",
       "      <td>medium</td>\n",
       "      <td>unacceptable</td>\n",
       "    </tr>\n",
       "    <tr>\n",
       "      <th>freq</th>\n",
       "      <td>362</td>\n",
       "      <td>355</td>\n",
       "      <td>362</td>\n",
       "      <td>472</td>\n",
       "      <td>476</td>\n",
       "      <td>469</td>\n",
       "      <td>974</td>\n",
       "    </tr>\n",
       "  </tbody>\n",
       "</table>\n",
       "</div>"
      ],
      "text/plain": [
       "       buying_price maintenance doors      seats trunk_size  safety  \\\n",
       "count          1399        1399  1399       1399       1399    1399   \n",
       "unique            4           4     4          3          3       3   \n",
       "top             low        high     3  5 or more      small  medium   \n",
       "freq            362         355   362        472        476     469   \n",
       "\n",
       "              status  \n",
       "count           1399  \n",
       "unique             4  \n",
       "top     unacceptable  \n",
       "freq             974  "
      ]
     },
     "execution_count": 98,
     "metadata": {},
     "output_type": "execute_result"
    }
   ],
   "source": [
    "df.describe()"
   ]
  },
  {
   "cell_type": "code",
   "execution_count": 99,
   "metadata": {},
   "outputs": [
    {
     "name": "stdout",
     "output_type": "stream",
     "text": [
      "['medium' 'low' 'very high' 'high']\n",
      "['medium' 'very high' 'high' 'low']\n",
      "['3' '5 or more' '2' '4']\n",
      "['4' '2' '5 or more']\n",
      "['small' 'big' 'medium']\n",
      "['medium' 'high' 'low']\n",
      "['acceptable' 'unacceptable' 'good' 'very good']\n"
     ]
    }
   ],
   "source": [
    "print(df[\"buying_price\"].unique())\n",
    "print(df[\"maintenance\"].unique())\n",
    "print(df[\"doors\"].unique())\n",
    "print(df[\"seats\"].unique())\n",
    "print(df[\"trunk_size\"].unique())\n",
    "print(df[\"safety\"].unique())\n",
    "print(df[\"status\"].unique())"
   ]
  },
  {
   "cell_type": "code",
   "execution_count": 100,
   "metadata": {},
   "outputs": [],
   "source": [
    "from sklearn.preprocessing import OrdinalEncoder,LabelEncoder\n",
    "from sklearn.model_selection import train_test_split\n",
    "\n",
    "y = df[\"status\"]\n",
    "df.drop(\"status\",axis=1,inplace=True)\n",
    "\n",
    "x_train,x_test,y_train,y_test = train_test_split(df,y,test_size=42,random_state=42)\n",
    "\n",
    "oe = OrdinalEncoder()\n",
    "le = LabelEncoder()\n",
    "\n",
    "x_train = oe.fit_transform(x_train)\n",
    "x_test = oe.transform(x_test)\n",
    "\n",
    "y_train = le.fit_transform(y_train)\n",
    "y_test = le.transform(y_test)"
   ]
  },
  {
   "cell_type": "code",
   "execution_count": 148,
   "metadata": {},
   "outputs": [],
   "source": [
    "from collections import Counter\n",
    "class KNN:\n",
    "    def __init__(self,k=3) :\n",
    "        self.k = k\n",
    "\n",
    "    def fit(self,x,y):\n",
    "        self.x_train = x\n",
    "        self.y_train = y\n",
    "    \n",
    "    def eucledian(self,x1,x2):\n",
    "        return np.sqrt(np.sum(np.power((x1-x2),2)))\n",
    "\n",
    "    def predict(self,x):\n",
    "        predictions = [self.__predict(x_t) for x_t in x]\n",
    "        return np.array(predictions)\n",
    "\n",
    "    def __predict(self,x_t):\n",
    "        distance = [self.eucledian(x_t,x_h) for x_h in self.x_train]\n",
    "        k_indices = np.argsort(distance)[:self.k]\n",
    "        k_classes = [self.y_train[i] for i in k_indices]\n",
    "        most_common = Counter(k_classes).most_common(1)\n",
    "        return most_common[0][0]\n"
   ]
  },
  {
   "cell_type": "code",
   "execution_count": 149,
   "metadata": {},
   "outputs": [],
   "source": [
    "knn1 = KNN(3)\n",
    "knn1.fit(x_train,y_train)"
   ]
  },
  {
   "cell_type": "code",
   "execution_count": 150,
   "metadata": {},
   "outputs": [],
   "source": [
    "predictions1 = knn1.predict(x_test)"
   ]
  },
  {
   "cell_type": "code",
   "execution_count": 151,
   "metadata": {},
   "outputs": [
    {
     "name": "stdout",
     "output_type": "stream",
     "text": [
      "0.8809523809523809\n"
     ]
    }
   ],
   "source": [
    "from sklearn.metrics import accuracy_score\n",
    "\n",
    "print(accuracy_score(y_test,predictions1))"
   ]
  },
  {
   "cell_type": "code",
   "execution_count": 130,
   "metadata": {},
   "outputs": [
    {
     "data": {
      "text/plain": [
       "KNeighborsClassifier()"
      ]
     },
     "execution_count": 130,
     "metadata": {},
     "output_type": "execute_result"
    }
   ],
   "source": [
    "from sklearn.neighbors import KNeighborsClassifier\n",
    "\n",
    "knn2 = KNeighborsClassifier()\n",
    "\n",
    "knn2.fit(x_train,y_train)"
   ]
  },
  {
   "cell_type": "code",
   "execution_count": 131,
   "metadata": {},
   "outputs": [],
   "source": [
    "preds = knn2.predict(x_test)"
   ]
  },
  {
   "cell_type": "code",
   "execution_count": 134,
   "metadata": {},
   "outputs": [
    {
     "name": "stdout",
     "output_type": "stream",
     "text": [
      "0.8809523809523809\n"
     ]
    }
   ],
   "source": [
    "print(accuracy_score(y_test,preds))"
   ]
  }
 ],
 "metadata": {
  "interpreter": {
   "hash": "bd838f1b749fd7eceb571f0bd4793d8a8d57dce3eb375f0f5e5f930b4d8716f0"
  },
  "kernelspec": {
   "display_name": "Python 3.8.12 64-bit ('ENV_NN': conda)",
   "language": "python",
   "name": "python3"
  },
  "language_info": {
   "codemirror_mode": {
    "name": "ipython",
    "version": 3
   },
   "file_extension": ".py",
   "mimetype": "text/x-python",
   "name": "python",
   "nbconvert_exporter": "python",
   "pygments_lexer": "ipython3",
   "version": "3.8.12"
  },
  "orig_nbformat": 4
 },
 "nbformat": 4,
 "nbformat_minor": 2
}
