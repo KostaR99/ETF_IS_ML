{
 "cells": [
  {
   "cell_type": "code",
   "execution_count": 1,
   "metadata": {},
   "outputs": [],
   "source": [
    "import pandas as pd\n",
    "import matplotlib.pyplot as plt\n",
    "import numpy as np"
   ]
  },
  {
   "cell_type": "code",
   "execution_count": 2,
   "metadata": {},
   "outputs": [],
   "source": [
    "df = pd.read_csv(\"car_purchase.csv\")"
   ]
  },
  {
   "cell_type": "code",
   "execution_count": 3,
   "metadata": {},
   "outputs": [
    {
     "data": {
      "text/html": [
       "<div>\n",
       "<style scoped>\n",
       "    .dataframe tbody tr th:only-of-type {\n",
       "        vertical-align: middle;\n",
       "    }\n",
       "\n",
       "    .dataframe tbody tr th {\n",
       "        vertical-align: top;\n",
       "    }\n",
       "\n",
       "    .dataframe thead th {\n",
       "        text-align: right;\n",
       "    }\n",
       "</style>\n",
       "<table border=\"1\" class=\"dataframe\">\n",
       "  <thead>\n",
       "    <tr style=\"text-align: right;\">\n",
       "      <th></th>\n",
       "      <th>customer_id</th>\n",
       "      <th>gender</th>\n",
       "      <th>age</th>\n",
       "      <th>annual_salary</th>\n",
       "      <th>credit_card_debt</th>\n",
       "      <th>net_worth</th>\n",
       "      <th>max_purchase_amount</th>\n",
       "    </tr>\n",
       "  </thead>\n",
       "  <tbody>\n",
       "    <tr>\n",
       "      <th>0</th>\n",
       "      <td>1</td>\n",
       "      <td>F</td>\n",
       "      <td>42</td>\n",
       "      <td>62812.09</td>\n",
       "      <td>11609.38</td>\n",
       "      <td>238961.25</td>\n",
       "      <td>35321.46</td>\n",
       "    </tr>\n",
       "    <tr>\n",
       "      <th>1</th>\n",
       "      <td>2</td>\n",
       "      <td>F</td>\n",
       "      <td>41</td>\n",
       "      <td>66646.89</td>\n",
       "      <td>9572.96</td>\n",
       "      <td>530973.91</td>\n",
       "      <td>45115.53</td>\n",
       "    </tr>\n",
       "    <tr>\n",
       "      <th>2</th>\n",
       "      <td>3</td>\n",
       "      <td>M</td>\n",
       "      <td>43</td>\n",
       "      <td>53798.55</td>\n",
       "      <td>11160.36</td>\n",
       "      <td>638467.18</td>\n",
       "      <td>42925.71</td>\n",
       "    </tr>\n",
       "    <tr>\n",
       "      <th>3</th>\n",
       "      <td>4</td>\n",
       "      <td>M</td>\n",
       "      <td>58</td>\n",
       "      <td>79370.04</td>\n",
       "      <td>14426.16</td>\n",
       "      <td>548599.05</td>\n",
       "      <td>67422.36</td>\n",
       "    </tr>\n",
       "    <tr>\n",
       "      <th>4</th>\n",
       "      <td>5</td>\n",
       "      <td>M</td>\n",
       "      <td>57</td>\n",
       "      <td>59729.15</td>\n",
       "      <td>5358.71</td>\n",
       "      <td>560304.07</td>\n",
       "      <td>55915.46</td>\n",
       "    </tr>\n",
       "  </tbody>\n",
       "</table>\n",
       "</div>"
      ],
      "text/plain": [
       "   customer_id gender  age  annual_salary  credit_card_debt  net_worth  \\\n",
       "0            1      F   42       62812.09          11609.38  238961.25   \n",
       "1            2      F   41       66646.89           9572.96  530973.91   \n",
       "2            3      M   43       53798.55          11160.36  638467.18   \n",
       "3            4      M   58       79370.04          14426.16  548599.05   \n",
       "4            5      M   57       59729.15           5358.71  560304.07   \n",
       "\n",
       "   max_purchase_amount  \n",
       "0             35321.46  \n",
       "1             45115.53  \n",
       "2             42925.71  \n",
       "3             67422.36  \n",
       "4             55915.46  "
      ]
     },
     "execution_count": 3,
     "metadata": {},
     "output_type": "execute_result"
    }
   ],
   "source": [
    "df.head()"
   ]
  },
  {
   "cell_type": "code",
   "execution_count": 4,
   "metadata": {},
   "outputs": [
    {
     "data": {
      "text/html": [
       "<div>\n",
       "<style scoped>\n",
       "    .dataframe tbody tr th:only-of-type {\n",
       "        vertical-align: middle;\n",
       "    }\n",
       "\n",
       "    .dataframe tbody tr th {\n",
       "        vertical-align: top;\n",
       "    }\n",
       "\n",
       "    .dataframe thead th {\n",
       "        text-align: right;\n",
       "    }\n",
       "</style>\n",
       "<table border=\"1\" class=\"dataframe\">\n",
       "  <thead>\n",
       "    <tr style=\"text-align: right;\">\n",
       "      <th></th>\n",
       "      <th>customer_id</th>\n",
       "      <th>gender</th>\n",
       "      <th>age</th>\n",
       "      <th>annual_salary</th>\n",
       "      <th>credit_card_debt</th>\n",
       "      <th>net_worth</th>\n",
       "      <th>max_purchase_amount</th>\n",
       "    </tr>\n",
       "  </thead>\n",
       "  <tbody>\n",
       "    <tr>\n",
       "      <th>395</th>\n",
       "      <td>396</td>\n",
       "      <td>M</td>\n",
       "      <td>35</td>\n",
       "      <td>61723.01</td>\n",
       "      <td>9913.19</td>\n",
       "      <td>291897.41</td>\n",
       "      <td>30757.66</td>\n",
       "    </tr>\n",
       "    <tr>\n",
       "      <th>396</th>\n",
       "      <td>397</td>\n",
       "      <td>F</td>\n",
       "      <td>55</td>\n",
       "      <td>72310.40</td>\n",
       "      <td>3093.71</td>\n",
       "      <td>724025.41</td>\n",
       "      <td>65592.22</td>\n",
       "    </tr>\n",
       "    <tr>\n",
       "      <th>397</th>\n",
       "      <td>398</td>\n",
       "      <td>F</td>\n",
       "      <td>37</td>\n",
       "      <td>67548.77</td>\n",
       "      <td>10462.36</td>\n",
       "      <td>388284.30</td>\n",
       "      <td>37871.71</td>\n",
       "    </tr>\n",
       "    <tr>\n",
       "      <th>398</th>\n",
       "      <td>399</td>\n",
       "      <td>F</td>\n",
       "      <td>48</td>\n",
       "      <td>62175.69</td>\n",
       "      <td>12967.28</td>\n",
       "      <td>343290.68</td>\n",
       "      <td>42919.52</td>\n",
       "    </tr>\n",
       "    <tr>\n",
       "      <th>399</th>\n",
       "      <td>400</td>\n",
       "      <td>F</td>\n",
       "      <td>32</td>\n",
       "      <td>60584.85</td>\n",
       "      <td>8133.46</td>\n",
       "      <td>129635.63</td>\n",
       "      <td>22599.46</td>\n",
       "    </tr>\n",
       "  </tbody>\n",
       "</table>\n",
       "</div>"
      ],
      "text/plain": [
       "     customer_id gender  age  annual_salary  credit_card_debt  net_worth  \\\n",
       "395          396      M   35       61723.01           9913.19  291897.41   \n",
       "396          397      F   55       72310.40           3093.71  724025.41   \n",
       "397          398      F   37       67548.77          10462.36  388284.30   \n",
       "398          399      F   48       62175.69          12967.28  343290.68   \n",
       "399          400      F   32       60584.85           8133.46  129635.63   \n",
       "\n",
       "     max_purchase_amount  \n",
       "395             30757.66  \n",
       "396             65592.22  \n",
       "397             37871.71  \n",
       "398             42919.52  \n",
       "399             22599.46  "
      ]
     },
     "execution_count": 4,
     "metadata": {},
     "output_type": "execute_result"
    }
   ],
   "source": [
    "df.tail()"
   ]
  },
  {
   "cell_type": "code",
   "execution_count": 5,
   "metadata": {},
   "outputs": [
    {
     "data": {
      "text/html": [
       "<div>\n",
       "<style scoped>\n",
       "    .dataframe tbody tr th:only-of-type {\n",
       "        vertical-align: middle;\n",
       "    }\n",
       "\n",
       "    .dataframe tbody tr th {\n",
       "        vertical-align: top;\n",
       "    }\n",
       "\n",
       "    .dataframe thead th {\n",
       "        text-align: right;\n",
       "    }\n",
       "</style>\n",
       "<table border=\"1\" class=\"dataframe\">\n",
       "  <thead>\n",
       "    <tr style=\"text-align: right;\">\n",
       "      <th></th>\n",
       "      <th>customer_id</th>\n",
       "      <th>age</th>\n",
       "      <th>annual_salary</th>\n",
       "      <th>credit_card_debt</th>\n",
       "      <th>net_worth</th>\n",
       "      <th>max_purchase_amount</th>\n",
       "    </tr>\n",
       "  </thead>\n",
       "  <tbody>\n",
       "    <tr>\n",
       "      <th>count</th>\n",
       "      <td>400.000000</td>\n",
       "      <td>400.000000</td>\n",
       "      <td>400.000000</td>\n",
       "      <td>400.000000</td>\n",
       "      <td>400.000000</td>\n",
       "      <td>400.000000</td>\n",
       "    </tr>\n",
       "    <tr>\n",
       "      <th>mean</th>\n",
       "      <td>200.500000</td>\n",
       "      <td>46.345000</td>\n",
       "      <td>61996.506450</td>\n",
       "      <td>9713.518250</td>\n",
       "      <td>435396.144475</td>\n",
       "      <td>44363.875700</td>\n",
       "    </tr>\n",
       "    <tr>\n",
       "      <th>std</th>\n",
       "      <td>115.614301</td>\n",
       "      <td>7.871523</td>\n",
       "      <td>11679.246855</td>\n",
       "      <td>3412.761433</td>\n",
       "      <td>176477.556299</td>\n",
       "      <td>10614.581382</td>\n",
       "    </tr>\n",
       "    <tr>\n",
       "      <th>min</th>\n",
       "      <td>1.000000</td>\n",
       "      <td>22.000000</td>\n",
       "      <td>20000.000000</td>\n",
       "      <td>632.050000</td>\n",
       "      <td>20000.000000</td>\n",
       "      <td>10092.230000</td>\n",
       "    </tr>\n",
       "    <tr>\n",
       "      <th>25%</th>\n",
       "      <td>100.750000</td>\n",
       "      <td>41.000000</td>\n",
       "      <td>53985.417500</td>\n",
       "      <td>7522.535000</td>\n",
       "      <td>308946.260000</td>\n",
       "      <td>37882.342500</td>\n",
       "    </tr>\n",
       "    <tr>\n",
       "      <th>50%</th>\n",
       "      <td>200.500000</td>\n",
       "      <td>46.000000</td>\n",
       "      <td>62755.175000</td>\n",
       "      <td>9767.390000</td>\n",
       "      <td>430765.990000</td>\n",
       "      <td>43997.785000</td>\n",
       "    </tr>\n",
       "    <tr>\n",
       "      <th>75%</th>\n",
       "      <td>300.250000</td>\n",
       "      <td>51.250000</td>\n",
       "      <td>70066.840000</td>\n",
       "      <td>11904.000000</td>\n",
       "      <td>564077.677500</td>\n",
       "      <td>51442.082500</td>\n",
       "    </tr>\n",
       "    <tr>\n",
       "      <th>max</th>\n",
       "      <td>400.000000</td>\n",
       "      <td>70.000000</td>\n",
       "      <td>100000.000000</td>\n",
       "      <td>20000.000000</td>\n",
       "      <td>1000000.000000</td>\n",
       "      <td>80000.000000</td>\n",
       "    </tr>\n",
       "  </tbody>\n",
       "</table>\n",
       "</div>"
      ],
      "text/plain": [
       "       customer_id         age  annual_salary  credit_card_debt  \\\n",
       "count   400.000000  400.000000     400.000000        400.000000   \n",
       "mean    200.500000   46.345000   61996.506450       9713.518250   \n",
       "std     115.614301    7.871523   11679.246855       3412.761433   \n",
       "min       1.000000   22.000000   20000.000000        632.050000   \n",
       "25%     100.750000   41.000000   53985.417500       7522.535000   \n",
       "50%     200.500000   46.000000   62755.175000       9767.390000   \n",
       "75%     300.250000   51.250000   70066.840000      11904.000000   \n",
       "max     400.000000   70.000000  100000.000000      20000.000000   \n",
       "\n",
       "            net_worth  max_purchase_amount  \n",
       "count      400.000000           400.000000  \n",
       "mean    435396.144475         44363.875700  \n",
       "std     176477.556299         10614.581382  \n",
       "min      20000.000000         10092.230000  \n",
       "25%     308946.260000         37882.342500  \n",
       "50%     430765.990000         43997.785000  \n",
       "75%     564077.677500         51442.082500  \n",
       "max    1000000.000000         80000.000000  "
      ]
     },
     "execution_count": 5,
     "metadata": {},
     "output_type": "execute_result"
    }
   ],
   "source": [
    "df.describe()"
   ]
  },
  {
   "cell_type": "code",
   "execution_count": 7,
   "metadata": {},
   "outputs": [
    {
     "data": {
      "text/html": [
       "<div>\n",
       "<style scoped>\n",
       "    .dataframe tbody tr th:only-of-type {\n",
       "        vertical-align: middle;\n",
       "    }\n",
       "\n",
       "    .dataframe tbody tr th {\n",
       "        vertical-align: top;\n",
       "    }\n",
       "\n",
       "    .dataframe thead th {\n",
       "        text-align: right;\n",
       "    }\n",
       "</style>\n",
       "<table border=\"1\" class=\"dataframe\">\n",
       "  <thead>\n",
       "    <tr style=\"text-align: right;\">\n",
       "      <th></th>\n",
       "      <th>gender</th>\n",
       "      <th>age</th>\n",
       "      <th>annual_salary</th>\n",
       "      <th>credit_card_debt</th>\n",
       "      <th>net_worth</th>\n",
       "      <th>max_purchase_amount</th>\n",
       "    </tr>\n",
       "  </thead>\n",
       "  <tbody>\n",
       "    <tr>\n",
       "      <th>0</th>\n",
       "      <td>F</td>\n",
       "      <td>42</td>\n",
       "      <td>62812.09</td>\n",
       "      <td>11609.38</td>\n",
       "      <td>238961.25</td>\n",
       "      <td>35321.46</td>\n",
       "    </tr>\n",
       "    <tr>\n",
       "      <th>1</th>\n",
       "      <td>F</td>\n",
       "      <td>41</td>\n",
       "      <td>66646.89</td>\n",
       "      <td>9572.96</td>\n",
       "      <td>530973.91</td>\n",
       "      <td>45115.53</td>\n",
       "    </tr>\n",
       "    <tr>\n",
       "      <th>2</th>\n",
       "      <td>M</td>\n",
       "      <td>43</td>\n",
       "      <td>53798.55</td>\n",
       "      <td>11160.36</td>\n",
       "      <td>638467.18</td>\n",
       "      <td>42925.71</td>\n",
       "    </tr>\n",
       "    <tr>\n",
       "      <th>3</th>\n",
       "      <td>M</td>\n",
       "      <td>58</td>\n",
       "      <td>79370.04</td>\n",
       "      <td>14426.16</td>\n",
       "      <td>548599.05</td>\n",
       "      <td>67422.36</td>\n",
       "    </tr>\n",
       "    <tr>\n",
       "      <th>4</th>\n",
       "      <td>M</td>\n",
       "      <td>57</td>\n",
       "      <td>59729.15</td>\n",
       "      <td>5358.71</td>\n",
       "      <td>560304.07</td>\n",
       "      <td>55915.46</td>\n",
       "    </tr>\n",
       "  </tbody>\n",
       "</table>\n",
       "</div>"
      ],
      "text/plain": [
       "  gender  age  annual_salary  credit_card_debt  net_worth  max_purchase_amount\n",
       "0      F   42       62812.09          11609.38  238961.25             35321.46\n",
       "1      F   41       66646.89           9572.96  530973.91             45115.53\n",
       "2      M   43       53798.55          11160.36  638467.18             42925.71\n",
       "3      M   58       79370.04          14426.16  548599.05             67422.36\n",
       "4      M   57       59729.15           5358.71  560304.07             55915.46"
      ]
     },
     "execution_count": 7,
     "metadata": {},
     "output_type": "execute_result"
    }
   ],
   "source": [
    "df.drop(\"customer_id\",inplace=True,axis=1)\n",
    "df.head()"
   ]
  },
  {
   "cell_type": "code",
   "execution_count": 8,
   "metadata": {},
   "outputs": [
    {
     "data": {
      "text/html": [
       "<div>\n",
       "<style scoped>\n",
       "    .dataframe tbody tr th:only-of-type {\n",
       "        vertical-align: middle;\n",
       "    }\n",
       "\n",
       "    .dataframe tbody tr th {\n",
       "        vertical-align: top;\n",
       "    }\n",
       "\n",
       "    .dataframe thead th {\n",
       "        text-align: right;\n",
       "    }\n",
       "</style>\n",
       "<table border=\"1\" class=\"dataframe\">\n",
       "  <thead>\n",
       "    <tr style=\"text-align: right;\">\n",
       "      <th></th>\n",
       "      <th>age</th>\n",
       "      <th>annual_salary</th>\n",
       "      <th>credit_card_debt</th>\n",
       "      <th>net_worth</th>\n",
       "      <th>max_purchase_amount</th>\n",
       "      <th>F</th>\n",
       "      <th>M</th>\n",
       "    </tr>\n",
       "  </thead>\n",
       "  <tbody>\n",
       "    <tr>\n",
       "      <th>0</th>\n",
       "      <td>42</td>\n",
       "      <td>62812.09</td>\n",
       "      <td>11609.38</td>\n",
       "      <td>238961.25</td>\n",
       "      <td>35321.46</td>\n",
       "      <td>1</td>\n",
       "      <td>0</td>\n",
       "    </tr>\n",
       "    <tr>\n",
       "      <th>1</th>\n",
       "      <td>41</td>\n",
       "      <td>66646.89</td>\n",
       "      <td>9572.96</td>\n",
       "      <td>530973.91</td>\n",
       "      <td>45115.53</td>\n",
       "      <td>1</td>\n",
       "      <td>0</td>\n",
       "    </tr>\n",
       "    <tr>\n",
       "      <th>2</th>\n",
       "      <td>43</td>\n",
       "      <td>53798.55</td>\n",
       "      <td>11160.36</td>\n",
       "      <td>638467.18</td>\n",
       "      <td>42925.71</td>\n",
       "      <td>0</td>\n",
       "      <td>1</td>\n",
       "    </tr>\n",
       "    <tr>\n",
       "      <th>3</th>\n",
       "      <td>58</td>\n",
       "      <td>79370.04</td>\n",
       "      <td>14426.16</td>\n",
       "      <td>548599.05</td>\n",
       "      <td>67422.36</td>\n",
       "      <td>0</td>\n",
       "      <td>1</td>\n",
       "    </tr>\n",
       "    <tr>\n",
       "      <th>4</th>\n",
       "      <td>57</td>\n",
       "      <td>59729.15</td>\n",
       "      <td>5358.71</td>\n",
       "      <td>560304.07</td>\n",
       "      <td>55915.46</td>\n",
       "      <td>0</td>\n",
       "      <td>1</td>\n",
       "    </tr>\n",
       "  </tbody>\n",
       "</table>\n",
       "</div>"
      ],
      "text/plain": [
       "   age  annual_salary  credit_card_debt  net_worth  max_purchase_amount  F  M\n",
       "0   42       62812.09          11609.38  238961.25             35321.46  1  0\n",
       "1   41       66646.89           9572.96  530973.91             45115.53  1  0\n",
       "2   43       53798.55          11160.36  638467.18             42925.71  0  1\n",
       "3   58       79370.04          14426.16  548599.05             67422.36  0  1\n",
       "4   57       59729.15           5358.71  560304.07             55915.46  0  1"
      ]
     },
     "execution_count": 8,
     "metadata": {},
     "output_type": "execute_result"
    }
   ],
   "source": [
    "one_hot = pd.get_dummies(df[\"gender\"])\n",
    "df.drop(\"gender\",axis=1,inplace=True)\n",
    "df = df.join(one_hot)\n",
    "df.head()"
   ]
  },
  {
   "cell_type": "code",
   "execution_count": 9,
   "metadata": {},
   "outputs": [
    {
     "data": {
      "image/png": "[encoded data removed]",
      "text/plain": [
       "<Figure size 288x288 with 1 Axes>"
      ]
     },
     "metadata": {
      "needs_background": "light"
     },
     "output_type": "display_data"
    }
   ],
   "source": [
    "plt.matshow(df.corr())\n",
    "plt.show()"
   ]
  },
  {
   "cell_type": "code",
   "execution_count": 10,
   "metadata": {},
   "outputs": [],
   "source": [
    "y = df[\"max_purchase_amount\"]\n",
    "df.drop(\"max_purchase_amount\",axis=1,inplace=True)"
   ]
  },
  {
   "cell_type": "code",
   "execution_count": 11,
   "metadata": {},
   "outputs": [
    {
     "data": {
      "text/html": [
       "<div>\n",
       "<style scoped>\n",
       "    .dataframe tbody tr th:only-of-type {\n",
       "        vertical-align: middle;\n",
       "    }\n",
       "\n",
       "    .dataframe tbody tr th {\n",
       "        vertical-align: top;\n",
       "    }\n",
       "\n",
       "    .dataframe thead th {\n",
       "        text-align: right;\n",
       "    }\n",
       "</style>\n",
       "<table border=\"1\" class=\"dataframe\">\n",
       "  <thead>\n",
       "    <tr style=\"text-align: right;\">\n",
       "      <th></th>\n",
       "      <th>age</th>\n",
       "      <th>annual_salary</th>\n",
       "      <th>credit_card_debt</th>\n",
       "      <th>net_worth</th>\n",
       "      <th>F</th>\n",
       "      <th>M</th>\n",
       "    </tr>\n",
       "  </thead>\n",
       "  <tbody>\n",
       "    <tr>\n",
       "      <th>0</th>\n",
       "      <td>42</td>\n",
       "      <td>62812.09</td>\n",
       "      <td>11609.38</td>\n",
       "      <td>238961.25</td>\n",
       "      <td>1</td>\n",
       "      <td>0</td>\n",
       "    </tr>\n",
       "    <tr>\n",
       "      <th>1</th>\n",
       "      <td>41</td>\n",
       "      <td>66646.89</td>\n",
       "      <td>9572.96</td>\n",
       "      <td>530973.91</td>\n",
       "      <td>1</td>\n",
       "      <td>0</td>\n",
       "    </tr>\n",
       "    <tr>\n",
       "      <th>2</th>\n",
       "      <td>43</td>\n",
       "      <td>53798.55</td>\n",
       "      <td>11160.36</td>\n",
       "      <td>638467.18</td>\n",
       "      <td>0</td>\n",
       "      <td>1</td>\n",
       "    </tr>\n",
       "    <tr>\n",
       "      <th>3</th>\n",
       "      <td>58</td>\n",
       "      <td>79370.04</td>\n",
       "      <td>14426.16</td>\n",
       "      <td>548599.05</td>\n",
       "      <td>0</td>\n",
       "      <td>1</td>\n",
       "    </tr>\n",
       "    <tr>\n",
       "      <th>4</th>\n",
       "      <td>57</td>\n",
       "      <td>59729.15</td>\n",
       "      <td>5358.71</td>\n",
       "      <td>560304.07</td>\n",
       "      <td>0</td>\n",
       "      <td>1</td>\n",
       "    </tr>\n",
       "  </tbody>\n",
       "</table>\n",
       "</div>"
      ],
      "text/plain": [
       "   age  annual_salary  credit_card_debt  net_worth  F  M\n",
       "0   42       62812.09          11609.38  238961.25  1  0\n",
       "1   41       66646.89           9572.96  530973.91  1  0\n",
       "2   43       53798.55          11160.36  638467.18  0  1\n",
       "3   58       79370.04          14426.16  548599.05  0  1\n",
       "4   57       59729.15           5358.71  560304.07  0  1"
      ]
     },
     "execution_count": 11,
     "metadata": {},
     "output_type": "execute_result"
    }
   ],
   "source": [
    "df.head()"
   ]
  },
  {
   "cell_type": "code",
   "execution_count": 12,
   "metadata": {},
   "outputs": [],
   "source": [
    "df = df.to_numpy()\n",
    "y = y.to_numpy()"
   ]
  },
  {
   "cell_type": "code",
   "execution_count": 13,
   "metadata": {},
   "outputs": [],
   "source": [
    "from sklearn.model_selection import train_test_split\n",
    "\n",
    "x_train,x_test,y_train,y_test = train_test_split(df,y,test_size=0.2,random_state=42)"
   ]
  },
  {
   "cell_type": "code",
   "execution_count": 17,
   "metadata": {},
   "outputs": [],
   "source": [
    "from sklearn.preprocessing import StandardScaler\n",
    "\n",
    "scaler = StandardScaler()\n",
    "\n",
    "x_train = scaler.fit_transform(x_train)\n",
    "x_test = scaler.transform(x_test)\n",
    "\n"
   ]
  },
  {
   "cell_type": "code",
   "execution_count": 14,
   "metadata": {},
   "outputs": [],
   "source": [
    "from tqdm import tqdm"
   ]
  },
  {
   "cell_type": "code",
   "execution_count": 18,
   "metadata": {},
   "outputs": [],
   "source": [
    "class LinearRegressionGradientDescent:\n",
    "    def __init__(self,lr=0.1,iters=1000):\n",
    "        self.__lr = lr\n",
    "        self.__iters = iters\n",
    "        self.__weights = None\n",
    "        self.__bias = None\n",
    "\n",
    "    def gradient_descent(self,m,x,y,yhat):\n",
    "        dw = (1/m)*np.dot(x.T,(yhat-y))\n",
    "        db = (1/m)*np.sum(yhat-y)\n",
    "\n",
    "        self.__weights -= self.__lr*dw\n",
    "        self.__bias -= self.__lr*db\n",
    "    \n",
    "    def loss(self,y,yhat,m):\n",
    "        return (1/m) * np.sum((yhat-y)**2)\n",
    "\n",
    "    def predict(self,x):\n",
    "        return np.dot(x,self.__weights)+self.__bias\n",
    "\n",
    "    def fit(self,x,y):\n",
    "        n_samples, n_features = x.shape\n",
    "        self.__weights = np.random.rand(n_features)\n",
    "        self.__bias=0\n",
    "\n",
    "        for _ in tqdm(range(self.__iters)):\n",
    "            yhat = self.predict(x)\n",
    "            loss = self.loss(y,yhat,n_samples)\n",
    "            self.gradient_descent(n_samples,x,y,yhat)\n",
    "\n",
    "        print(loss)\n",
    "\n",
    "    def get_weights(self):\n",
    "        return self.__weights\n",
    "\n",
    "    def get_bias(self):\n",
    "        return self.__bias\n",
    "\n",
    "\n",
    "        "
   ]
  },
  {
   "cell_type": "code",
   "execution_count": 19,
   "metadata": {},
   "outputs": [
    {
     "name": "stderr",
     "output_type": "stream",
     "text": [
      "100%|██████████| 1000/1000 [00:00<00:00, 20559.00it/s]"
     ]
    },
    {
     "name": "stdout",
     "output_type": "stream",
     "text": [
      "54929.176335955344\n"
     ]
    },
    {
     "name": "stderr",
     "output_type": "stream",
     "text": [
      "\n"
     ]
    }
   ],
   "source": [
    "model1 = LinearRegressionGradientDescent()\n",
    "model1.fit(x_train,y_train)"
   ]
  },
  {
   "cell_type": "code",
   "execution_count": 20,
   "metadata": {},
   "outputs": [],
   "source": [
    "predictions1 = model1.predict(x_test)"
   ]
  },
  {
   "cell_type": "code",
   "execution_count": 21,
   "metadata": {},
   "outputs": [
    {
     "name": "stdout",
     "output_type": "stream",
     "text": [
      "60977.19272458679\n"
     ]
    }
   ],
   "source": [
    "from sklearn.metrics import mean_squared_error\n",
    "\n",
    "print(mean_squared_error(y_test,predictions1))"
   ]
  },
  {
   "cell_type": "code",
   "execution_count": 23,
   "metadata": {},
   "outputs": [
    {
     "data": {
      "text/plain": [
       "LinearRegression()"
      ]
     },
     "execution_count": 23,
     "metadata": {},
     "output_type": "execute_result"
    }
   ],
   "source": [
    "from sklearn.linear_model import LinearRegression\n",
    "model2 = LinearRegression()\n",
    "model2.fit(x_train,y_train)\n"
   ]
  },
  {
   "cell_type": "code",
   "execution_count": 24,
   "metadata": {},
   "outputs": [
    {
     "name": "stdout",
     "output_type": "stream",
     "text": [
      "60977.192724585955\n"
     ]
    }
   ],
   "source": [
    "predictions2 = model2.predict(x_test)\n",
    "print(mean_squared_error(y_test,predictions2))"
   ]
  },
  {
   "cell_type": "code",
   "execution_count": 25,
   "metadata": {},
   "outputs": [
    {
     "data": {
      "text/plain": [
       "array([6461.90979262, 6608.76079961,   26.23673774, 5143.75453154,\n",
       "        -12.58274701,   12.64231566])"
      ]
     },
     "execution_count": 25,
     "metadata": {},
     "output_type": "execute_result"
    }
   ],
   "source": [
    "model1.get_weights()"
   ]
  },
  {
   "cell_type": "code",
   "execution_count": 26,
   "metadata": {},
   "outputs": [
    {
     "data": {
      "text/plain": [
       "44109.23053124996"
      ]
     },
     "execution_count": 26,
     "metadata": {},
     "output_type": "execute_result"
    }
   ],
   "source": [
    "model1.get_bias()"
   ]
  },
  {
   "cell_type": "code",
   "execution_count": null,
   "metadata": {},
   "outputs": [],
   "source": []
  }
 ],
 "metadata": {
  "interpreter": {
   "hash": "bd838f1b749fd7eceb571f0bd4793d8a8d57dce3eb375f0f5e5f930b4d8716f0"
  },
  "kernelspec": {
   "display_name": "Python 3.8.12 64-bit ('ENV_NN': conda)",
   "language": "python",
   "name": "python3"
  },
  "language_info": {
   "codemirror_mode": {
    "name": "ipython",
    "version": 3
   },
   "file_extension": ".py",
   "mimetype": "text/x-python",
   "name": "python",
   "nbconvert_exporter": "python",
   "pygments_lexer": "ipython3",
   "version": "3.8.12"
  },
  "orig_nbformat": 4
 },
 "nbformat": 4,
 "nbformat_minor": 2
}
